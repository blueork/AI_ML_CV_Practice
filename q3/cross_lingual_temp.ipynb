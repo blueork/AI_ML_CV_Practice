{
 "cells": [
  {
   "cell_type": "code",
   "execution_count": 1,
   "id": "880749d1",
   "metadata": {},
   "outputs": [
    {
     "name": "stdout",
     "output_type": "stream",
     "text": [
      "Hello World\n"
     ]
    }
   ],
   "source": [
    "print(\"Hello World\")"
   ]
  },
  {
   "cell_type": "code",
   "execution_count": 1,
   "id": "451bb74c",
   "metadata": {},
   "outputs": [
    {
     "name": "stderr",
     "output_type": "stream",
     "text": [
      "d:\\Installed\\ana\\envs\\kdd_task_1\\lib\\site-packages\\tqdm\\auto.py:21: TqdmWarning: IProgress not found. Please update jupyter and ipywidgets. See https://ipywidgets.readthedocs.io/en/stable/user_install.html\n",
      "  from .autonotebook import tqdm as notebook_tqdm\n"
     ]
    }
   ],
   "source": [
    "import torch\n",
    "from transformers import pipeline"
   ]
  },
  {
   "cell_type": "code",
   "execution_count": 2,
   "id": "facc7508",
   "metadata": {},
   "outputs": [],
   "source": [
    "test_text = 'آپ کيسے ہيں'"
   ]
  },
  {
   "cell_type": "code",
   "execution_count": 10,
   "id": "1985eed1",
   "metadata": {},
   "outputs": [
    {
     "name": "stderr",
     "output_type": "stream",
     "text": [
      "Device set to use cpu\n"
     ]
    }
   ],
   "source": [
    "# Load model for original language to english translation\n",
    "src_lang_to_eng_translator = pipeline(\n",
    "    task=\"translation\",\n",
    "    model=\"Helsinki-NLP/opus-mt-en-fr\")"
   ]
  },
  {
   "cell_type": "code",
   "execution_count": 8,
   "id": "330f1d63",
   "metadata": {},
   "outputs": [
    {
     "name": "stdout",
     "output_type": "stream",
     "text": [
      "It's a flower\n"
     ]
    }
   ],
   "source": [
    "# translate from source language to english\n",
    "result = src_lang_to_eng_translator('یہ ایک پھول ہے', max_length = 512)\n",
    "print(result[0]['translation_text'])"
   ]
  },
  {
   "cell_type": "code",
   "execution_count": 13,
   "id": "5771716d",
   "metadata": {},
   "outputs": [
    {
     "name": "stderr",
     "output_type": "stream",
     "text": [
      "Device set to use cpu\n"
     ]
    }
   ],
   "source": [
    "# another model for translation purposes\n",
    "\n",
    "google_translator = pipeline(\"text2text-generation\", model=\"google-t5/t5-small\")"
   ]
  },
  {
   "cell_type": "code",
   "execution_count": 21,
   "id": "9b82c55a",
   "metadata": {},
   "outputs": [],
   "source": [
    "result = google_translator('Translate English to Urdu: ' + 'How are you?')"
   ]
  },
  {
   "cell_type": "code",
   "execution_count": 22,
   "id": "663f8908",
   "metadata": {},
   "outputs": [
    {
     "name": "stdout",
     "output_type": "stream",
     "text": [
      "[{'generated_text': 'Translate English to Urdu: How are you?'}]\n"
     ]
    }
   ],
   "source": [
    "print(result)"
   ]
  },
  {
   "cell_type": "code",
   "execution_count": 3,
   "id": "cd359a86",
   "metadata": {},
   "outputs": [
    {
     "name": "stderr",
     "output_type": "stream",
     "text": [
      "Xet Storage is enabled for this repo, but the 'hf_xet' package is not installed. Falling back to regular HTTP download. For better performance, install the package with: `pip install huggingface_hub[hf_xet]` or `pip install hf_xet`\n",
      "Xet Storage is enabled for this repo, but the 'hf_xet' package is not installed. Falling back to regular HTTP download. For better performance, install the package with: `pip install huggingface_hub[hf_xet]` or `pip install hf_xet`\n",
      "Xet Storage is enabled for this repo, but the 'hf_xet' package is not installed. Falling back to regular HTTP download. For better performance, install the package with: `pip install huggingface_hub[hf_xet]` or `pip install hf_xet`\n",
      "Device set to use cpu\n"
     ]
    }
   ],
   "source": [
    "# Use a pipeline as a high-level helper\n",
    "from transformers import pipeline\n",
    "\n",
    "pipe = pipeline(\"text2text-generation\", model=\"facebook/m2m100_418M\")"
   ]
  },
  {
   "cell_type": "code",
   "execution_count": null,
   "id": "657d898f",
   "metadata": {},
   "outputs": [
    {
     "data": {
      "text/plain": [
       "[{'generated_text': 'You are here'}]"
      ]
     },
     "execution_count": 9,
     "metadata": {},
     "output_type": "execute_result"
    }
   ],
   "source": [
    "pipe('آپ کيسے ہيں', forced_bos_token_id=pipe.tokenizer.get_lang_id(lang='en'))"
   ]
  },
  {
   "cell_type": "code",
   "execution_count": 13,
   "id": "f9120c09",
   "metadata": {},
   "outputs": [
    {
     "name": "stdout",
     "output_type": "stream",
     "text": [
      "My name is Jhon\n",
      "Mon nom est Jhon.\n"
     ]
    }
   ],
   "source": [
    "# src lang to eng lang to src lang pipeline\n",
    "\n",
    "test_text = 'Je m\\'appelle Jhon'\n",
    "\n",
    "original_to_en = pipe(test_text, forced_bos_token_id=pipe.tokenizer.get_lang_id(lang='en'))\n",
    "print(original_to_en[0]['generated_text'])\n",
    "\n",
    "en_to_original = src_lang_to_eng_translator(original_to_en[0]['generated_text'], max_length = 512)\n",
    "print(en_to_original[0]['translation_text'])"
   ]
  },
  {
   "cell_type": "code",
   "execution_count": 25,
   "id": "9fc09485",
   "metadata": {},
   "outputs": [
    {
     "name": "stderr",
     "output_type": "stream",
     "text": [
      "[nltk_data] Downloading package punkt to\n",
      "[nltk_data]     C:\\Users\\HP\\AppData\\Roaming\\nltk_data...\n",
      "[nltk_data]   Package punkt is already up-to-date!\n",
      "[nltk_data] Downloading package punkt_tab to\n",
      "[nltk_data]     C:\\Users\\HP\\AppData\\Roaming\\nltk_data...\n",
      "[nltk_data]   Unzipping tokenizers\\punkt_tab.zip.\n"
     ]
    },
    {
     "data": {
      "text/plain": [
       "True"
      ]
     },
     "execution_count": 25,
     "metadata": {},
     "output_type": "execute_result"
    }
   ],
   "source": [
    "# now have to make validation pipeline\n",
    "from nltk.translate.bleu_score import sentence_bleu\n",
    "from nltk import word_tokenize\n",
    "import nltk\n",
    "nltk.download('punkt')\n",
    "nltk.download('punkt_tab')"
   ]
  },
  {
   "cell_type": "code",
   "execution_count": 29,
   "id": "207ae30a",
   "metadata": {},
   "outputs": [],
   "source": [
    "tokenized_reference = word_tokenize(test_text)\n",
    "tokenized_candidate = word_tokenize(en_to_original[0]['translation_text'])\n"
   ]
  },
  {
   "cell_type": "code",
   "execution_count": 30,
   "id": "d94a92c9",
   "metadata": {},
   "outputs": [
    {
     "name": "stdout",
     "output_type": "stream",
     "text": [
      "['Je', \"m'appelle\", 'Jhon']\n",
      "['Mon', 'nom', 'est', 'Jhon', '.']\n"
     ]
    }
   ],
   "source": [
    "print(tokenized_reference)\n",
    "print(tokenized_candidate)"
   ]
  },
  {
   "cell_type": "code",
   "execution_count": 40,
   "id": "6d3a7476",
   "metadata": {},
   "outputs": [
    {
     "name": "stdout",
     "output_type": "stream",
     "text": [
      "1.2183324802375697e-231\n"
     ]
    },
    {
     "name": "stderr",
     "output_type": "stream",
     "text": [
      "d:\\Installed\\ana\\envs\\kdd_task_1\\lib\\site-packages\\nltk\\translate\\bleu_score.py:577: UserWarning: \n",
      "The hypothesis contains 0 counts of 2-gram overlaps.\n",
      "Therefore the BLEU score evaluates to 0, independently of\n",
      "how many N-gram overlaps of lower order it contains.\n",
      "Consider using lower n-gram order or use SmoothingFunction()\n",
      "  warnings.warn(_msg)\n",
      "d:\\Installed\\ana\\envs\\kdd_task_1\\lib\\site-packages\\nltk\\translate\\bleu_score.py:577: UserWarning: \n",
      "The hypothesis contains 0 counts of 3-gram overlaps.\n",
      "Therefore the BLEU score evaluates to 0, independently of\n",
      "how many N-gram overlaps of lower order it contains.\n",
      "Consider using lower n-gram order or use SmoothingFunction()\n",
      "  warnings.warn(_msg)\n",
      "d:\\Installed\\ana\\envs\\kdd_task_1\\lib\\site-packages\\nltk\\translate\\bleu_score.py:577: UserWarning: \n",
      "The hypothesis contains 0 counts of 4-gram overlaps.\n",
      "Therefore the BLEU score evaluates to 0, independently of\n",
      "how many N-gram overlaps of lower order it contains.\n",
      "Consider using lower n-gram order or use SmoothingFunction()\n",
      "  warnings.warn(_msg)\n"
     ]
    }
   ],
   "source": [
    "bleu_score = sentence_bleu([tokenized_reference], tokenized_candidate)\n",
    "print(bleu_score)"
   ]
  },
  {
   "cell_type": "code",
   "execution_count": 35,
   "id": "64bf9c5a",
   "metadata": {},
   "outputs": [],
   "source": [
    "ed_sent_1_2 = nltk.edit_distance(tokenized_reference, tokenized_candidate)"
   ]
  },
  {
   "cell_type": "code",
   "execution_count": 41,
   "id": "f8e3a48c",
   "metadata": {},
   "outputs": [],
   "source": [
    "normalized_edit_distance = (ed_sent_1_2 / max(len(tokenized_reference), len(tokenized_candidate)))\n",
    "score = 1 - normalized_edit_distance"
   ]
  },
  {
   "cell_type": "code",
   "execution_count": null,
   "id": "ef54d92f",
   "metadata": {},
   "outputs": [
    {
     "name": "stdout",
     "output_type": "stream",
     "text": [
      "0.19999999999999996\n"
     ]
    }
   ],
   "source": [
    "print(score)"
   ]
  },
  {
   "cell_type": "code",
   "execution_count": 42,
   "id": "b6ddbb6c",
   "metadata": {},
   "outputs": [
    {
     "name": "stdout",
     "output_type": "stream",
     "text": [
      "0.09999999999999998\n"
     ]
    }
   ],
   "source": [
    "explain_score = (1 - normalized_edit_distance + bleu_score) / 2\n",
    "print(explain_score)"
   ]
  },
  {
   "cell_type": "code",
   "execution_count": 43,
   "id": "45b9ca52",
   "metadata": {},
   "outputs": [
    {
     "name": "stdout",
     "output_type": "stream",
     "text": [
      "\n",
      "Mismatch Indicator:\n",
      "Original:         Je m'appelle Jhon\n",
      "Back-Translated:  Mon nom est Jhon .\n",
      "                  ^ ^ ^ ^ ^\n"
     ]
    }
   ],
   "source": [
    "print(\"\\nMismatch Indicator:\")\n",
    "print(\"Original:        \", ' '.join(tokenized_reference))\n",
    "print(\"Back-Translated: \", ' '.join(tokenized_candidate))\n",
    "\n",
    "# Simple mismatch pointer\n",
    "mismatch_line = []\n",
    "max_len = max(len(tokenized_candidate), len(tokenized_candidate))\n",
    "for i in range(max_len):\n",
    "    if i >= len(tokenized_reference) or i >= len(tokenized_candidate):\n",
    "        mismatch_line.append(\"^\")\n",
    "    elif tokenized_reference[i] != tokenized_candidate[i]:\n",
    "        mismatch_line.append(\"^\")\n",
    "    else:\n",
    "        mismatch_line.append(\" \")\n",
    "\n",
    "print(\"                 \", ' '.join(mismatch_line))\n"
   ]
  },
  {
   "cell_type": "code",
   "execution_count": null,
   "id": "c3dd76a2",
   "metadata": {},
   "outputs": [],
   "source": []
  }
 ],
 "metadata": {
  "kernelspec": {
   "display_name": "kdd_task_1",
   "language": "python",
   "name": "python3"
  },
  "language_info": {
   "codemirror_mode": {
    "name": "ipython",
    "version": 3
   },
   "file_extension": ".py",
   "mimetype": "text/x-python",
   "name": "python",
   "nbconvert_exporter": "python",
   "pygments_lexer": "ipython3",
   "version": "3.9.23"
  }
 },
 "nbformat": 4,
 "nbformat_minor": 5
}

{
 "cells": [
  {
   "cell_type": "code",
   "execution_count": 2,
   "id": "28b4491c",
   "metadata": {},
   "outputs": [
    {
     "name": "stderr",
     "output_type": "stream",
     "text": [
      "d:\\Installed\\ana\\envs\\kdd_task_1\\lib\\site-packages\\tqdm\\auto.py:21: TqdmWarning: IProgress not found. Please update jupyter and ipywidgets. See https://ipywidgets.readthedocs.io/en/stable/user_install.html\n",
      "  from .autonotebook import tqdm as notebook_tqdm\n"
     ]
    }
   ],
   "source": [
    "import torch\n",
    "from transformers import pipeline"
   ]
  },
  {
   "cell_type": "code",
   "execution_count": 3,
   "id": "22b2a5e0",
   "metadata": {},
   "outputs": [],
   "source": [
    "src_lang = 'fr'\n",
    "src_test_string = 'Je m\\'appelle Jhon'"
   ]
  },
  {
   "cell_type": "code",
   "execution_count": 4,
   "id": "a67a01a7",
   "metadata": {},
   "outputs": [
    {
     "name": "stderr",
     "output_type": "stream",
     "text": [
      "Device set to use cpu\n",
      "Device set to use cpu\n"
     ]
    }
   ],
   "source": [
    "# Load model for original language to english translation\n",
    "src_lang_to_eng_translator = pipeline(\"text2text-generation\", model=\"facebook/m2m100_418M\")\n",
    "\n",
    "eng_lang_to_src_translator= pipeline(\n",
    "    task= \"translation\",\n",
    "    model= f\"Helsinki-NLP/opus-mt-en-{src_lang}\")"
   ]
  },
  {
   "cell_type": "code",
   "execution_count": 5,
   "id": "d332ddfc",
   "metadata": {},
   "outputs": [
    {
     "name": "stdout",
     "output_type": "stream",
     "text": [
      "My name is Jhon\n",
      "Mon nom est Jhon.\n"
     ]
    }
   ],
   "source": [
    "# translate from the src lang to eng and then back to src lang\n",
    "original_to_en = src_lang_to_eng_translator(src_test_string, forced_bos_token_id=src_lang_to_eng_translator.tokenizer.get_lang_id(lang='en'))\n",
    "print(original_to_en[0]['generated_text'])\n",
    "\n",
    "en_to_original = eng_lang_to_src_translator(original_to_en[0]['generated_text'], max_length = 512)\n",
    "print(en_to_original[0]['translation_text'])"
   ]
  },
  {
   "cell_type": "code",
   "execution_count": 6,
   "id": "263c4275",
   "metadata": {},
   "outputs": [
    {
     "name": "stderr",
     "output_type": "stream",
     "text": [
      "[nltk_data] Downloading package punkt to\n",
      "[nltk_data]     C:\\Users\\HP\\AppData\\Roaming\\nltk_data...\n",
      "[nltk_data]   Package punkt is already up-to-date!\n",
      "[nltk_data] Downloading package punkt_tab to\n",
      "[nltk_data]     C:\\Users\\HP\\AppData\\Roaming\\nltk_data...\n",
      "[nltk_data]   Package punkt_tab is already up-to-date!\n"
     ]
    },
    {
     "data": {
      "text/plain": [
       "True"
      ]
     },
     "execution_count": 6,
     "metadata": {},
     "output_type": "execute_result"
    }
   ],
   "source": [
    "# now have to make validation pipeline\n",
    "from nltk.translate.bleu_score import sentence_bleu\n",
    "from nltk import word_tokenize\n",
    "import nltk\n",
    "nltk.download('punkt')\n",
    "nltk.download('punkt_tab')"
   ]
  },
  {
   "cell_type": "code",
   "execution_count": 7,
   "id": "7585c524",
   "metadata": {},
   "outputs": [],
   "source": [
    "\n",
    "# tokenize the words using the nltk functions\n",
    "tokenized_reference = word_tokenize(src_test_string)\n",
    "tokenized_candidate = word_tokenize(en_to_original[0]['translation_text'])"
   ]
  },
  {
   "cell_type": "code",
   "execution_count": null,
   "id": "840da454",
   "metadata": {},
   "outputs": [
    {
     "name": "stdout",
     "output_type": "stream",
     "text": [
      "blue score: 1.2183324802375697e-231\n",
      "Normalized Edit Distane0.8\n",
      "Score using the normalized edit distance only: 0.19999999999999996\n",
      "Explainablity Score: 0.09999999999999998\n"
     ]
    },
    {
     "name": "stderr",
     "output_type": "stream",
     "text": [
      "d:\\Installed\\ana\\envs\\kdd_task_1\\lib\\site-packages\\nltk\\translate\\bleu_score.py:577: UserWarning: \n",
      "The hypothesis contains 0 counts of 2-gram overlaps.\n",
      "Therefore the BLEU score evaluates to 0, independently of\n",
      "how many N-gram overlaps of lower order it contains.\n",
      "Consider using lower n-gram order or use SmoothingFunction()\n",
      "  warnings.warn(_msg)\n",
      "d:\\Installed\\ana\\envs\\kdd_task_1\\lib\\site-packages\\nltk\\translate\\bleu_score.py:577: UserWarning: \n",
      "The hypothesis contains 0 counts of 3-gram overlaps.\n",
      "Therefore the BLEU score evaluates to 0, independently of\n",
      "how many N-gram overlaps of lower order it contains.\n",
      "Consider using lower n-gram order or use SmoothingFunction()\n",
      "  warnings.warn(_msg)\n",
      "d:\\Installed\\ana\\envs\\kdd_task_1\\lib\\site-packages\\nltk\\translate\\bleu_score.py:577: UserWarning: \n",
      "The hypothesis contains 0 counts of 4-gram overlaps.\n",
      "Therefore the BLEU score evaluates to 0, independently of\n",
      "how many N-gram overlaps of lower order it contains.\n",
      "Consider using lower n-gram order or use SmoothingFunction()\n",
      "  warnings.warn(_msg)\n"
     ]
    }
   ],
   "source": [
    "bleu_score = sentence_bleu([tokenized_reference], tokenized_candidate)\n",
    "print(f'blue score: {bleu_score}')\n",
    "\n",
    "edit_distance = nltk.edit_distance(tokenized_reference, tokenized_candidate)\n",
    "\n",
    "normalized_edit_distance = (edit_distance / max(len(tokenized_reference), len(tokenized_candidate)))\n",
    "score = 1 - normalized_edit_distance\n",
    "\n",
    "print(f'Normalized Edit Distance {normalized_edit_distance}')\n",
    "print(f'Score using the normalized edit distance only: {score}')\n",
    "\n",
    "explain_score = (1 - normalized_edit_distance + bleu_score) / 2\n",
    "print(f'Explainablity Score: {explain_score}')"
   ]
  },
  {
   "cell_type": "code",
   "execution_count": 9,
   "id": "6443aeb2",
   "metadata": {},
   "outputs": [
    {
     "name": "stdout",
     "output_type": "stream",
     "text": [
      "\n",
      "Mismatch Indicator:\n",
      "Original:         Je m'appelle Jhon\n",
      "Back-Translated:  Mon nom est Jhon .\n",
      "                  ^ ^ ^ ^ ^\n"
     ]
    }
   ],
   "source": [
    "print(\"\\nMismatch Indicator:\")\n",
    "print(\"Original:        \", ' '.join(tokenized_reference))\n",
    "print(\"Back-Translated: \", ' '.join(tokenized_candidate))\n",
    "\n",
    "# Simple mismatch pointer\n",
    "mismatch_line = []\n",
    "max_len = max(len(tokenized_candidate), len(tokenized_candidate))\n",
    "for i in range(max_len):\n",
    "    if i >= len(tokenized_reference) or i >= len(tokenized_candidate):\n",
    "        mismatch_line.append(\"^\")\n",
    "    elif tokenized_reference[i] != tokenized_candidate[i]:\n",
    "        mismatch_line.append(\"^\")\n",
    "    else:\n",
    "        mismatch_line.append(\" \")\n",
    "\n",
    "print(\"                 \", ' '.join(mismatch_line))"
   ]
  },
  {
   "cell_type": "code",
   "execution_count": null,
   "id": "75120de4",
   "metadata": {},
   "outputs": [],
   "source": []
  }
 ],
 "metadata": {
  "kernelspec": {
   "display_name": "kdd_task_1",
   "language": "python",
   "name": "python3"
  },
  "language_info": {
   "codemirror_mode": {
    "name": "ipython",
    "version": 3
   },
   "file_extension": ".py",
   "mimetype": "text/x-python",
   "name": "python",
   "nbconvert_exporter": "python",
   "pygments_lexer": "ipython3",
   "version": "3.9.23"
  }
 },
 "nbformat": 4,
 "nbformat_minor": 5
}

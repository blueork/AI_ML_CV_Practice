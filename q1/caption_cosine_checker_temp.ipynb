{
 "cells": [
  {
   "cell_type": "code",
   "execution_count": 1,
   "id": "c133756e",
   "metadata": {},
   "outputs": [
    {
     "name": "stdout",
     "output_type": "stream",
     "text": [
      "Hello World\n"
     ]
    }
   ],
   "source": [
    "print('Hello World')"
   ]
  },
  {
   "cell_type": "code",
   "execution_count": 2,
   "id": "939f6564",
   "metadata": {},
   "outputs": [],
   "source": [
    "import pandas as pd"
   ]
  },
  {
   "cell_type": "code",
   "execution_count": 5,
   "id": "6ff3e7fb",
   "metadata": {},
   "outputs": [],
   "source": [
    "\n",
    "# load the dataset from hugging face\n",
    "image_caption_df = pd.read_parquet(\"hf://datasets/SKyu/my-image-captioning-dataset/data/train-00000-of-00001-3e9e72b53b09ab09.parquet\")"
   ]
  },
  {
   "cell_type": "code",
   "execution_count": 6,
   "id": "9516096f",
   "metadata": {},
   "outputs": [
    {
     "name": "stdout",
     "output_type": "stream",
     "text": [
      "<class 'pandas.core.frame.DataFrame'>\n",
      "RangeIndex: 3100 entries, 0 to 3099\n",
      "Data columns (total 3 columns):\n",
      " #   Column       Non-Null Count  Dtype \n",
      "---  ------       --------------  ----- \n",
      " 0   prompt       3100 non-null   object\n",
      " 1   image.bytes  3100 non-null   object\n",
      " 2   image.path   3100 non-null   object\n",
      "dtypes: object(3)\n",
      "memory usage: 72.8+ KB\n"
     ]
    }
   ],
   "source": [
    "image_caption_df.info()"
   ]
  },
  {
   "cell_type": "code",
   "execution_count": 8,
   "id": "08c3b03a",
   "metadata": {},
   "outputs": [
    {
     "data": {
      "text/html": [
       "<div>\n",
       "<style scoped>\n",
       "    .dataframe tbody tr th:only-of-type {\n",
       "        vertical-align: middle;\n",
       "    }\n",
       "\n",
       "    .dataframe tbody tr th {\n",
       "        vertical-align: top;\n",
       "    }\n",
       "\n",
       "    .dataframe thead th {\n",
       "        text-align: right;\n",
       "    }\n",
       "</style>\n",
       "<table border=\"1\" class=\"dataframe\">\n",
       "  <thead>\n",
       "    <tr style=\"text-align: right;\">\n",
       "      <th></th>\n",
       "      <th>prompt</th>\n",
       "      <th>image.bytes</th>\n",
       "      <th>image.path</th>\n",
       "    </tr>\n",
       "  </thead>\n",
       "  <tbody>\n",
       "    <tr>\n",
       "      <th>0</th>\n",
       "      <td>a large building next to a body of water, conc...</td>\n",
       "      <td>b'\\xff\\xd8\\xff\\xe0\\x00\\x10JFIF\\x00\\x01\\x02\\x00...</td>\n",
       "      <td>2010 Yeosu EXPO Korean Pavilion_P_002.jpg</td>\n",
       "    </tr>\n",
       "    <tr>\n",
       "      <th>1</th>\n",
       "      <td>a model of a city next to a body of water, det...</td>\n",
       "      <td>b'\\xff\\xd8\\xff\\xe0\\x00\\x10JFIF\\x00\\x01\\x02\\x00...</td>\n",
       "      <td>2010 Yeosu EXPO Korean Pavilion_P_003.jpg</td>\n",
       "    </tr>\n",
       "    <tr>\n",
       "      <th>2</th>\n",
       "      <td>a group of people standing inside of a buildin...</td>\n",
       "      <td>b'\\xff\\xd8\\xff\\xe0\\x00\\x10JFIF\\x00\\x01\\x02\\x00...</td>\n",
       "      <td>2010 Yeosu EXPO Korean Pavilion_P_004.jpg</td>\n",
       "    </tr>\n",
       "    <tr>\n",
       "      <th>3</th>\n",
       "      <td>a large building sitting on top of a lush gree...</td>\n",
       "      <td>b'\\xff\\xd8\\xff\\xe0\\x00\\x10JFIF\\x00\\x01\\x02\\x00...</td>\n",
       "      <td>2018 PyeongChang Olympic Plaza_201803080906011...</td>\n",
       "    </tr>\n",
       "    <tr>\n",
       "      <th>4</th>\n",
       "      <td>a stadium filled with lots of people watching ...</td>\n",
       "      <td>b'\\xff\\xd8\\xff\\xe0\\x00\\x10JFIF\\x00\\x01\\x02\\x00...</td>\n",
       "      <td>2018 PyeongChang Olympic Plaza_201803081908528...</td>\n",
       "    </tr>\n",
       "  </tbody>\n",
       "</table>\n",
       "</div>"
      ],
      "text/plain": [
       "                                              prompt  \\\n",
       "0  a large building next to a body of water, conc...   \n",
       "1  a model of a city next to a body of water, det...   \n",
       "2  a group of people standing inside of a buildin...   \n",
       "3  a large building sitting on top of a lush gree...   \n",
       "4  a stadium filled with lots of people watching ...   \n",
       "\n",
       "                                         image.bytes  \\\n",
       "0  b'\\xff\\xd8\\xff\\xe0\\x00\\x10JFIF\\x00\\x01\\x02\\x00...   \n",
       "1  b'\\xff\\xd8\\xff\\xe0\\x00\\x10JFIF\\x00\\x01\\x02\\x00...   \n",
       "2  b'\\xff\\xd8\\xff\\xe0\\x00\\x10JFIF\\x00\\x01\\x02\\x00...   \n",
       "3  b'\\xff\\xd8\\xff\\xe0\\x00\\x10JFIF\\x00\\x01\\x02\\x00...   \n",
       "4  b'\\xff\\xd8\\xff\\xe0\\x00\\x10JFIF\\x00\\x01\\x02\\x00...   \n",
       "\n",
       "                                          image.path  \n",
       "0          2010 Yeosu EXPO Korean Pavilion_P_002.jpg  \n",
       "1          2010 Yeosu EXPO Korean Pavilion_P_003.jpg  \n",
       "2          2010 Yeosu EXPO Korean Pavilion_P_004.jpg  \n",
       "3  2018 PyeongChang Olympic Plaza_201803080906011...  \n",
       "4  2018 PyeongChang Olympic Plaza_201803081908528...  "
      ]
     },
     "execution_count": 8,
     "metadata": {},
     "output_type": "execute_result"
    }
   ],
   "source": [
    "image_caption_df.head()"
   ]
  },
  {
   "cell_type": "code",
   "execution_count": 11,
   "id": "97aaf4eb",
   "metadata": {},
   "outputs": [
    {
     "ename": "AttributeError",
     "evalue": "'str' object has no attribute 'get'",
     "output_type": "error",
     "traceback": [
      "\u001b[1;31m---------------------------------------------------------------------------\u001b[0m",
      "\u001b[1;31mAttributeError\u001b[0m                            Traceback (most recent call last)",
      "Cell \u001b[1;32mIn[11], line 13\u001b[0m\n\u001b[0;32m     10\u001b[0m     sampled_data\u001b[38;5;241m.\u001b[39mappend(example)\n\u001b[0;32m     12\u001b[0m \u001b[38;5;66;03m# Convert to Hugging Face Dataset object\u001b[39;00m\n\u001b[1;32m---> 13\u001b[0m small_dataset \u001b[38;5;241m=\u001b[39m \u001b[43mDataset\u001b[49m\u001b[38;5;241;43m.\u001b[39;49m\u001b[43mfrom_list\u001b[49m\u001b[43m(\u001b[49m\u001b[43msampled_data\u001b[49m\u001b[43m)\u001b[49m\n\u001b[0;32m     15\u001b[0m \u001b[38;5;66;03m# Convert to Pandas DataFrame\u001b[39;00m\n\u001b[0;32m     16\u001b[0m df \u001b[38;5;241m=\u001b[39m small_dataset\u001b[38;5;241m.\u001b[39mto_pandas()\n",
      "File \u001b[1;32md:\\Installed\\ana\\envs\\kdd_task_1\\lib\\site-packages\\datasets\\arrow_dataset.py:985\u001b[0m, in \u001b[0;36mDataset.from_list\u001b[1;34m(cls, mapping, features, info, split)\u001b[0m\n\u001b[0;32m    963\u001b[0m \u001b[38;5;250m\u001b[39m\u001b[38;5;124;03m\"\"\"\u001b[39;00m\n\u001b[0;32m    964\u001b[0m \u001b[38;5;124;03mConvert a list of dicts to a `pyarrow.Table` to create a [`Dataset`]`.\u001b[39;00m\n\u001b[0;32m    965\u001b[0m \n\u001b[1;32m   (...)\u001b[0m\n\u001b[0;32m    982\u001b[0m \u001b[38;5;124;03m    [`Dataset`]\u001b[39;00m\n\u001b[0;32m    983\u001b[0m \u001b[38;5;124;03m\"\"\"\u001b[39;00m\n\u001b[0;32m    984\u001b[0m \u001b[38;5;66;03m# for simplicity and consistency wrt OptimizedTypedSequence we do not use InMemoryTable.from_pylist here\u001b[39;00m\n\u001b[1;32m--> 985\u001b[0m mapping \u001b[38;5;241m=\u001b[39m {k: [r\u001b[38;5;241m.\u001b[39mget(k) \u001b[38;5;28;01mfor\u001b[39;00m r \u001b[38;5;129;01min\u001b[39;00m mapping] \u001b[38;5;28;01mfor\u001b[39;00m k \u001b[38;5;129;01min\u001b[39;00m mapping[\u001b[38;5;241m0\u001b[39m]} \u001b[38;5;28;01mif\u001b[39;00m mapping \u001b[38;5;28;01melse\u001b[39;00m {}\n\u001b[0;32m    986\u001b[0m \u001b[38;5;28;01mreturn\u001b[39;00m \u001b[38;5;28mcls\u001b[39m\u001b[38;5;241m.\u001b[39mfrom_dict(mapping, features, info, split)\n",
      "File \u001b[1;32md:\\Installed\\ana\\envs\\kdd_task_1\\lib\\site-packages\\datasets\\arrow_dataset.py:985\u001b[0m, in \u001b[0;36m<dictcomp>\u001b[1;34m(.0)\u001b[0m\n\u001b[0;32m    963\u001b[0m \u001b[38;5;250m\u001b[39m\u001b[38;5;124;03m\"\"\"\u001b[39;00m\n\u001b[0;32m    964\u001b[0m \u001b[38;5;124;03mConvert a list of dicts to a `pyarrow.Table` to create a [`Dataset`]`.\u001b[39;00m\n\u001b[0;32m    965\u001b[0m \n\u001b[1;32m   (...)\u001b[0m\n\u001b[0;32m    982\u001b[0m \u001b[38;5;124;03m    [`Dataset`]\u001b[39;00m\n\u001b[0;32m    983\u001b[0m \u001b[38;5;124;03m\"\"\"\u001b[39;00m\n\u001b[0;32m    984\u001b[0m \u001b[38;5;66;03m# for simplicity and consistency wrt OptimizedTypedSequence we do not use InMemoryTable.from_pylist here\u001b[39;00m\n\u001b[1;32m--> 985\u001b[0m mapping \u001b[38;5;241m=\u001b[39m {k: [r\u001b[38;5;241m.\u001b[39mget(k) \u001b[38;5;28;01mfor\u001b[39;00m r \u001b[38;5;129;01min\u001b[39;00m mapping] \u001b[38;5;28;01mfor\u001b[39;00m k \u001b[38;5;129;01min\u001b[39;00m mapping[\u001b[38;5;241m0\u001b[39m]} \u001b[38;5;28;01mif\u001b[39;00m mapping \u001b[38;5;28;01melse\u001b[39;00m {}\n\u001b[0;32m    986\u001b[0m \u001b[38;5;28;01mreturn\u001b[39;00m \u001b[38;5;28mcls\u001b[39m\u001b[38;5;241m.\u001b[39mfrom_dict(mapping, features, info, split)\n",
      "File \u001b[1;32md:\\Installed\\ana\\envs\\kdd_task_1\\lib\\site-packages\\datasets\\arrow_dataset.py:985\u001b[0m, in \u001b[0;36m<listcomp>\u001b[1;34m(.0)\u001b[0m\n\u001b[0;32m    963\u001b[0m \u001b[38;5;250m\u001b[39m\u001b[38;5;124;03m\"\"\"\u001b[39;00m\n\u001b[0;32m    964\u001b[0m \u001b[38;5;124;03mConvert a list of dicts to a `pyarrow.Table` to create a [`Dataset`]`.\u001b[39;00m\n\u001b[0;32m    965\u001b[0m \n\u001b[1;32m   (...)\u001b[0m\n\u001b[0;32m    982\u001b[0m \u001b[38;5;124;03m    [`Dataset`]\u001b[39;00m\n\u001b[0;32m    983\u001b[0m \u001b[38;5;124;03m\"\"\"\u001b[39;00m\n\u001b[0;32m    984\u001b[0m \u001b[38;5;66;03m# for simplicity and consistency wrt OptimizedTypedSequence we do not use InMemoryTable.from_pylist here\u001b[39;00m\n\u001b[1;32m--> 985\u001b[0m mapping \u001b[38;5;241m=\u001b[39m {k: [\u001b[43mr\u001b[49m\u001b[38;5;241;43m.\u001b[39;49m\u001b[43mget\u001b[49m(k) \u001b[38;5;28;01mfor\u001b[39;00m r \u001b[38;5;129;01min\u001b[39;00m mapping] \u001b[38;5;28;01mfor\u001b[39;00m k \u001b[38;5;129;01min\u001b[39;00m mapping[\u001b[38;5;241m0\u001b[39m]} \u001b[38;5;28;01mif\u001b[39;00m mapping \u001b[38;5;28;01melse\u001b[39;00m {}\n\u001b[0;32m    986\u001b[0m \u001b[38;5;28;01mreturn\u001b[39;00m \u001b[38;5;28mcls\u001b[39m\u001b[38;5;241m.\u001b[39mfrom_dict(mapping, features, info, split)\n",
      "\u001b[1;31mAttributeError\u001b[0m: 'str' object has no attribute 'get'"
     ]
    }
   ],
   "source": [
    "from datasets import load_dataset, Dataset\n",
    "import pandas as pd\n",
    "\n",
    "dataset = load_dataset(\"M-CLIP/ImageCaptions-7M-Translations\", streaming = True)\n",
    "\n",
    "sampled_data = []\n",
    "for i, example in enumerate(dataset):\n",
    "    if i >= 1000:\n",
    "        break\n",
    "    sampled_data.append(example)\n",
    "\n",
    "# Convert to Hugging Face Dataset object\n",
    "small_dataset = Dataset.from_list(sampled_data)\n",
    "\n",
    "# Convert to Pandas DataFrame\n",
    "df = small_dataset.to_pandas()\n",
    "\n",
    "# Keep only 'caption' and 'url' columns (drop others)\n",
    "df = df[['caption', 'url']]\n",
    "\n",
    "# Save to CSV in current directory\n",
    "df.to_csv(\"captions_and_urls.csv\", index=False)\n",
    "\n",
    "print(\"CSV file saved as captions_and_urls.csv\")\n"
   ]
  },
  {
   "cell_type": "code",
   "execution_count": null,
   "id": "f98dc4f7",
   "metadata": {},
   "outputs": [],
   "source": [
    "\n",
    "\n",
    "\n"
   ]
  },
  {
   "cell_type": "code",
   "execution_count": 75,
   "id": "8ff6791a",
   "metadata": {},
   "outputs": [
    {
     "name": "stdout",
     "output_type": "stream",
     "text": [
      "                                              caption  \\\n",
      "0         an empty chair sitting in front of a window   \n",
      "1   a house under construction with a building bei...   \n",
      "2            a little boy that is sitting in a basket   \n",
      "3         a man in an apron working on crates of fish   \n",
      "4   a view from a bridge over a river in central park   \n",
      "..                                                ...   \n",
      "95  santa claus, standing at the base of a christm...   \n",
      "96      an old white house with a tree in front of it   \n",
      "97  the stained glass window in the cathedral at t...   \n",
      "98  three men in their firemen's uniforms standing...   \n",
      "99                 a lake with water in the mountains   \n",
      "\n",
      "                                                  url  \n",
      "0   http://static.flickr.com/2723/4385058960_b0f29...  \n",
      "1   http://static.flickr.com/3074/2965635243_d45c3...  \n",
      "2   http://static.flickr.com/188/431442759_e0c519a...  \n",
      "3   http://static.flickr.com/3276/2989279316_9e8e3...  \n",
      "4   http://static.flickr.com/2691/4304191133_cbbf8...  \n",
      "..                                                ...  \n",
      "95  http://static.flickr.com/2586/4131925350_1025e...  \n",
      "96  http://static.flickr.com/4107/4991906474_cf956...  \n",
      "97  http://static.flickr.com/2346/2672417986_7ffd2...  \n",
      "98  http://static.flickr.com/1113/3174114609_2cb9e...  \n",
      "99  http://static.flickr.com/3131/2728489237_14624...  \n",
      "\n",
      "[100 rows x 2 columns]\n"
     ]
    }
   ],
   "source": [
    "# load the the caption_url csv\n",
    "df = pd.read_csv(\"caption_url.csv\")\n",
    "print(df)"
   ]
  },
  {
   "cell_type": "code",
   "execution_count": 68,
   "id": "1f0dcc7c",
   "metadata": {},
   "outputs": [
    {
     "data": {
      "text/html": [
       "<div>\n",
       "<style scoped>\n",
       "    .dataframe tbody tr th:only-of-type {\n",
       "        vertical-align: middle;\n",
       "    }\n",
       "\n",
       "    .dataframe tbody tr th {\n",
       "        vertical-align: top;\n",
       "    }\n",
       "\n",
       "    .dataframe thead th {\n",
       "        text-align: right;\n",
       "    }\n",
       "</style>\n",
       "<table border=\"1\" class=\"dataframe\">\n",
       "  <thead>\n",
       "    <tr style=\"text-align: right;\">\n",
       "      <th></th>\n",
       "      <th>caption</th>\n",
       "      <th>url</th>\n",
       "    </tr>\n",
       "  </thead>\n",
       "  <tbody>\n",
       "    <tr>\n",
       "      <th>0</th>\n",
       "      <td>an empty chair sitting in front of a window</td>\n",
       "      <td>http://static.flickr.com/2723/4385058960_b0f29...</td>\n",
       "    </tr>\n",
       "    <tr>\n",
       "      <th>1</th>\n",
       "      <td>a house under construction with a building bei...</td>\n",
       "      <td>http://static.flickr.com/3074/2965635243_d45c3...</td>\n",
       "    </tr>\n",
       "    <tr>\n",
       "      <th>2</th>\n",
       "      <td>a little boy that is sitting in a basket</td>\n",
       "      <td>http://static.flickr.com/188/431442759_e0c519a...</td>\n",
       "    </tr>\n",
       "    <tr>\n",
       "      <th>3</th>\n",
       "      <td>a man in an apron working on crates of fish</td>\n",
       "      <td>http://static.flickr.com/3276/2989279316_9e8e3...</td>\n",
       "    </tr>\n",
       "    <tr>\n",
       "      <th>4</th>\n",
       "      <td>a view from a bridge over a river in central park</td>\n",
       "      <td>http://static.flickr.com/2691/4304191133_cbbf8...</td>\n",
       "    </tr>\n",
       "  </tbody>\n",
       "</table>\n",
       "</div>"
      ],
      "text/plain": [
       "                                             caption  \\\n",
       "0        an empty chair sitting in front of a window   \n",
       "1  a house under construction with a building bei...   \n",
       "2           a little boy that is sitting in a basket   \n",
       "3        a man in an apron working on crates of fish   \n",
       "4  a view from a bridge over a river in central park   \n",
       "\n",
       "                                                 url  \n",
       "0  http://static.flickr.com/2723/4385058960_b0f29...  \n",
       "1  http://static.flickr.com/3074/2965635243_d45c3...  \n",
       "2  http://static.flickr.com/188/431442759_e0c519a...  \n",
       "3  http://static.flickr.com/3276/2989279316_9e8e3...  \n",
       "4  http://static.flickr.com/2691/4304191133_cbbf8...  "
      ]
     },
     "execution_count": 68,
     "metadata": {},
     "output_type": "execute_result"
    }
   ],
   "source": [
    "df.head()"
   ]
  },
  {
   "cell_type": "code",
   "execution_count": 19,
   "id": "b9603c1e",
   "metadata": {},
   "outputs": [
    {
     "name": "stderr",
     "output_type": "stream",
     "text": [
      "Device set to use cpu\n"
     ]
    }
   ],
   "source": [
    "# load the model for translation\n",
    "import torch\n",
    "from transformers import pipeline\n",
    "\n",
    "pipeline = pipeline(\n",
    "    task=\"translation\",\n",
    "    model=\"Helsinki-NLP/opus-mt-en-ur\")"
   ]
  },
  {
   "cell_type": "code",
   "execution_count": 76,
   "id": "3272b0f4",
   "metadata": {},
   "outputs": [],
   "source": [
    "# create a new dataset for the updated caption and cosine thingy\n",
    "new_df = pd.DataFrame(columns=['eng_caption', 'urdu_caption', 'url'])"
   ]
  },
  {
   "cell_type": "code",
   "execution_count": 21,
   "id": "55e036d5",
   "metadata": {},
   "outputs": [
    {
     "data": {
      "text/html": [
       "<div>\n",
       "<style scoped>\n",
       "    .dataframe tbody tr th:only-of-type {\n",
       "        vertical-align: middle;\n",
       "    }\n",
       "\n",
       "    .dataframe tbody tr th {\n",
       "        vertical-align: top;\n",
       "    }\n",
       "\n",
       "    .dataframe thead th {\n",
       "        text-align: right;\n",
       "    }\n",
       "</style>\n",
       "<table border=\"1\" class=\"dataframe\">\n",
       "  <thead>\n",
       "    <tr style=\"text-align: right;\">\n",
       "      <th></th>\n",
       "      <th>eng_caption</th>\n",
       "      <th>urdu_caption</th>\n",
       "      <th>url</th>\n",
       "    </tr>\n",
       "  </thead>\n",
       "  <tbody>\n",
       "    <tr>\n",
       "      <th>count</th>\n",
       "      <td>0</td>\n",
       "      <td>0</td>\n",
       "      <td>0</td>\n",
       "    </tr>\n",
       "    <tr>\n",
       "      <th>unique</th>\n",
       "      <td>0</td>\n",
       "      <td>0</td>\n",
       "      <td>0</td>\n",
       "    </tr>\n",
       "    <tr>\n",
       "      <th>top</th>\n",
       "      <td>NaN</td>\n",
       "      <td>NaN</td>\n",
       "      <td>NaN</td>\n",
       "    </tr>\n",
       "    <tr>\n",
       "      <th>freq</th>\n",
       "      <td>NaN</td>\n",
       "      <td>NaN</td>\n",
       "      <td>NaN</td>\n",
       "    </tr>\n",
       "  </tbody>\n",
       "</table>\n",
       "</div>"
      ],
      "text/plain": [
       "       eng_caption urdu_caption  url\n",
       "count            0            0    0\n",
       "unique           0            0    0\n",
       "top            NaN          NaN  NaN\n",
       "freq           NaN          NaN  NaN"
      ]
     },
     "execution_count": 21,
     "metadata": {},
     "output_type": "execute_result"
    }
   ],
   "source": [
    "new_df.describe()"
   ]
  },
  {
   "cell_type": "code",
   "execution_count": 60,
   "id": "dff9f140",
   "metadata": {},
   "outputs": [],
   "source": [
    "# load the embedder\n",
    "from sentence_transformers import SentenceTransformer\n",
    "from sklearn.metrics.pairwise import cosine_similarity\n",
    "\n",
    "model = SentenceTransformer('sentence-transformers/LaBSE')\n"
   ]
  },
  {
   "cell_type": "code",
   "execution_count": 61,
   "id": "f9de7956",
   "metadata": {},
   "outputs": [],
   "source": [
    "def translate_caption(en_caption, translator):\n",
    "    result = translator(en_caption, max_length=512)\n",
    "    return result[0]['translation_text']"
   ]
  },
  {
   "cell_type": "code",
   "execution_count": 64,
   "id": "c54597f4",
   "metadata": {},
   "outputs": [],
   "source": [
    "def compute_similarity(en_caption, lang_caption, model):\n",
    "    embeddings = model.encode([en_caption, lang_caption])\n",
    "    similarity = cosine_similarity(embeddings[0].reshape(1, -1) , embeddings[1].reshape(1, -1))[0][0]\n",
    "    return similarity"
   ]
  },
  {
   "cell_type": "code",
   "execution_count": 77,
   "id": "02577b15",
   "metadata": {},
   "outputs": [],
   "source": [
    "# iterate over the original data frame\n",
    "# get translation against each row, calculate its similarity\n",
    "# if similarity score is above 0.75, append it to the new dataframe else ignore\n",
    "for index, row in df.iterrows():\n",
    "    translated_caption = translate_caption(row['caption'], pipeline)\n",
    "    similarity = compute_similarity(row['caption'], translated_caption, model)\n",
    "    # print(translated_caption)\n",
    "    # print(similarity)\n",
    "    if similarity >= 0.75:\n",
    "        new_row = pd.DataFrame({\"url\": [row['url']], \"eng_caption\": [row['caption']], \"urdu_caption\": [translated_caption]})\n",
    "        new_df = pd.concat([new_df, new_row], ignore_index=True)\n"
   ]
  },
  {
   "cell_type": "code",
   "execution_count": 78,
   "id": "594ab0b3",
   "metadata": {},
   "outputs": [
    {
     "data": {
      "text/html": [
       "<div>\n",
       "<style scoped>\n",
       "    .dataframe tbody tr th:only-of-type {\n",
       "        vertical-align: middle;\n",
       "    }\n",
       "\n",
       "    .dataframe tbody tr th {\n",
       "        vertical-align: top;\n",
       "    }\n",
       "\n",
       "    .dataframe thead th {\n",
       "        text-align: right;\n",
       "    }\n",
       "</style>\n",
       "<table border=\"1\" class=\"dataframe\">\n",
       "  <thead>\n",
       "    <tr style=\"text-align: right;\">\n",
       "      <th></th>\n",
       "      <th>eng_caption</th>\n",
       "      <th>urdu_caption</th>\n",
       "      <th>url</th>\n",
       "    </tr>\n",
       "  </thead>\n",
       "  <tbody>\n",
       "    <tr>\n",
       "      <th>0</th>\n",
       "      <td>an empty chair sitting in front of a window</td>\n",
       "      <td>کھڑکی کے سامنے تختوں پر ایک چھوٹا سا تخت بیٹھت...</td>\n",
       "      <td>http://static.flickr.com/2723/4385058960_b0f29...</td>\n",
       "    </tr>\n",
       "    <tr>\n",
       "      <th>1</th>\n",
       "      <td>a house under construction with a building bei...</td>\n",
       "      <td>تعمیر کے تحت تعمیر کا گھر تعمیر کِیا گیا تھا</td>\n",
       "      <td>http://static.flickr.com/3074/2965635243_d45c3...</td>\n",
       "    </tr>\n",
       "    <tr>\n",
       "      <th>2</th>\n",
       "      <td>a little boy that is sitting in a basket</td>\n",
       "      <td>ایک چھوٹا لڑکا ایک ٹوکری میں بیٹھا ہے</td>\n",
       "      <td>http://static.flickr.com/188/431442759_e0c519a...</td>\n",
       "    </tr>\n",
       "    <tr>\n",
       "      <th>3</th>\n",
       "      <td>a man in an apron working on crates of fish</td>\n",
       "      <td>مچھلیوں میں ایک آدمی مچھلی کے جال میں کام کرتا ہے</td>\n",
       "      <td>http://static.flickr.com/3276/2989279316_9e8e3...</td>\n",
       "    </tr>\n",
       "    <tr>\n",
       "      <th>4</th>\n",
       "      <td>a view from a bridge over a river in central park</td>\n",
       "      <td>وسطی پارک کے ایک سرے سے لیکر وسطی پارک کا منظر</td>\n",
       "      <td>http://static.flickr.com/2691/4304191133_cbbf8...</td>\n",
       "    </tr>\n",
       "  </tbody>\n",
       "</table>\n",
       "</div>"
      ],
      "text/plain": [
       "                                         eng_caption  \\\n",
       "0        an empty chair sitting in front of a window   \n",
       "1  a house under construction with a building bei...   \n",
       "2           a little boy that is sitting in a basket   \n",
       "3        a man in an apron working on crates of fish   \n",
       "4  a view from a bridge over a river in central park   \n",
       "\n",
       "                                        urdu_caption  \\\n",
       "0  کھڑکی کے سامنے تختوں پر ایک چھوٹا سا تخت بیٹھت...   \n",
       "1       تعمیر کے تحت تعمیر کا گھر تعمیر کِیا گیا تھا   \n",
       "2              ایک چھوٹا لڑکا ایک ٹوکری میں بیٹھا ہے   \n",
       "3  مچھلیوں میں ایک آدمی مچھلی کے جال میں کام کرتا ہے   \n",
       "4     وسطی پارک کے ایک سرے سے لیکر وسطی پارک کا منظر   \n",
       "\n",
       "                                                 url  \n",
       "0  http://static.flickr.com/2723/4385058960_b0f29...  \n",
       "1  http://static.flickr.com/3074/2965635243_d45c3...  \n",
       "2  http://static.flickr.com/188/431442759_e0c519a...  \n",
       "3  http://static.flickr.com/3276/2989279316_9e8e3...  \n",
       "4  http://static.flickr.com/2691/4304191133_cbbf8...  "
      ]
     },
     "execution_count": 78,
     "metadata": {},
     "output_type": "execute_result"
    }
   ],
   "source": [
    "new_df.head()"
   ]
  },
  {
   "cell_type": "code",
   "execution_count": null,
   "id": "66c52abe",
   "metadata": {},
   "outputs": [],
   "source": [
    "# save the dataframe as a csv\n",
    "df.to_csv('translated_captions.csv')"
   ]
  },
  {
   "cell_type": "code",
   "execution_count": null,
   "id": "470ba966",
   "metadata": {},
   "outputs": [],
   "source": []
  }
 ],
 "metadata": {
  "kernelspec": {
   "display_name": "kdd_task_1",
   "language": "python",
   "name": "python3"
  },
  "language_info": {
   "codemirror_mode": {
    "name": "ipython",
    "version": 3
   },
   "file_extension": ".py",
   "mimetype": "text/x-python",
   "name": "python",
   "nbconvert_exporter": "python",
   "pygments_lexer": "ipython3",
   "version": "3.9.23"
  }
 },
 "nbformat": 4,
 "nbformat_minor": 5
}

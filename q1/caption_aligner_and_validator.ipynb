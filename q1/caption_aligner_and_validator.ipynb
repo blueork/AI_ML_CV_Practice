{
 "cells": [
  {
   "cell_type": "code",
   "execution_count": 1,
   "id": "545687f0",
   "metadata": {},
   "outputs": [
    {
     "name": "stdout",
     "output_type": "stream",
     "text": [
      "                                              caption  \\\n",
      "0         an empty chair sitting in front of a window   \n",
      "1   a house under construction with a building bei...   \n",
      "2            a little boy that is sitting in a basket   \n",
      "3         a man in an apron working on crates of fish   \n",
      "4   a view from a bridge over a river in central park   \n",
      "..                                                ...   \n",
      "95  santa claus, standing at the base of a christm...   \n",
      "96      an old white house with a tree in front of it   \n",
      "97  the stained glass window in the cathedral at t...   \n",
      "98  three men in their firemen's uniforms standing...   \n",
      "99                 a lake with water in the mountains   \n",
      "\n",
      "                                                  url  \n",
      "0   http://static.flickr.com/2723/4385058960_b0f29...  \n",
      "1   http://static.flickr.com/3074/2965635243_d45c3...  \n",
      "2   http://static.flickr.com/188/431442759_e0c519a...  \n",
      "3   http://static.flickr.com/3276/2989279316_9e8e3...  \n",
      "4   http://static.flickr.com/2691/4304191133_cbbf8...  \n",
      "..                                                ...  \n",
      "95  http://static.flickr.com/2586/4131925350_1025e...  \n",
      "96  http://static.flickr.com/4107/4991906474_cf956...  \n",
      "97  http://static.flickr.com/2346/2672417986_7ffd2...  \n",
      "98  http://static.flickr.com/1113/3174114609_2cb9e...  \n",
      "99  http://static.flickr.com/3131/2728489237_14624...  \n",
      "\n",
      "[100 rows x 2 columns]\n"
     ]
    }
   ],
   "source": [
    "import pandas as pd\n",
    "\n",
    "# load the manually curated caption_url csv\n",
    "# contains image paths and descriptions in english\n",
    "df = pd.read_csv(\"caption_url.csv\")\n",
    "print(df)"
   ]
  },
  {
   "cell_type": "code",
   "execution_count": 2,
   "id": "60ff5ae4",
   "metadata": {},
   "outputs": [],
   "source": [
    "lang = input('Enter language code (ur for Urdu, fr for french, zh for chineese):')"
   ]
  },
  {
   "cell_type": "code",
   "execution_count": 3,
   "id": "0eba7c98",
   "metadata": {},
   "outputs": [
    {
     "name": "stderr",
     "output_type": "stream",
     "text": [
      "d:\\Installed\\ana\\envs\\kdd_task_1\\lib\\site-packages\\tqdm\\auto.py:21: TqdmWarning: IProgress not found. Please update jupyter and ipywidgets. See https://ipywidgets.readthedocs.io/en/stable/user_install.html\n",
      "  from .autonotebook import tqdm as notebook_tqdm\n",
      "Device set to use cpu\n"
     ]
    }
   ],
   "source": [
    "# used a lightweight model for translation purposes\n",
    "# it should support major langauges\n",
    "# I tested it for urdu\n",
    "import torch\n",
    "from transformers import pipeline\n",
    "\n",
    "pipeline = pipeline(\n",
    "    task=\"translation\",\n",
    "    model= f\"Helsinki-NLP/opus-mt-en-{lang}\")"
   ]
  },
  {
   "cell_type": "code",
   "execution_count": 10,
   "id": "49cce59e",
   "metadata": {},
   "outputs": [],
   "source": [
    "# create a new dataset for the updated caption and cosine thingy\n",
    "translated_df = pd.DataFrame(columns=['eng_caption', 'translated_caption', 'url'])"
   ]
  },
  {
   "cell_type": "code",
   "execution_count": 5,
   "id": "3eed9e05",
   "metadata": {},
   "outputs": [],
   "source": [
    "# load the embedder\n",
    "from sentence_transformers import SentenceTransformer\n",
    "from sklearn.metrics.pairwise import cosine_similarity\n",
    "\n",
    "model = SentenceTransformer('sentence-transformers/LaBSE')"
   ]
  },
  {
   "cell_type": "code",
   "execution_count": 6,
   "id": "c946bbc4",
   "metadata": {},
   "outputs": [],
   "source": [
    "# takes the english caption and the translator model and returns the translated string\n",
    "def translate_caption(en_caption, translator):\n",
    "    result = translator(en_caption, max_length=512)\n",
    "    return result[0]['translation_text']\n",
    "\n",
    "# takes the original english caption, translated caption, the embedding model and finds\n",
    "# cosine similarity\n",
    "def compute_similarity(en_caption, translated_caption, model):\n",
    "    embeddings = model.encode([en_caption, translated_caption])\n",
    "    similarity = cosine_similarity(embeddings[0].reshape(1, -1) , embeddings[1].reshape(1, -1))[0][0]\n",
    "    return similarity"
   ]
  },
  {
   "cell_type": "code",
   "execution_count": 11,
   "id": "1032e349",
   "metadata": {},
   "outputs": [],
   "source": [
    "# iterate over the original data frame\n",
    "# get translation against each row, calculate its similarity\n",
    "# if similarity score is above or equal to 0.75, append it to the new dataframe else ignore\n",
    "for index, row in df.iterrows():\n",
    "    translated_caption = translate_caption(row['caption'], pipeline)\n",
    "    similarity = compute_similarity(row['caption'], translated_caption, model)\n",
    "    # print(translated_caption)\n",
    "    # print(similarity)\n",
    "    if similarity >= 0.75:\n",
    "        new_row = pd.DataFrame({\"url\": [row['url']], \"eng_caption\": [row['caption']], \"translated_caption\": [translated_caption]})\n",
    "        translated_df = pd.concat([translated_df, new_row], ignore_index=True)"
   ]
  },
  {
   "cell_type": "code",
   "execution_count": 12,
   "id": "fd65f3ef",
   "metadata": {},
   "outputs": [
    {
     "name": "stdout",
     "output_type": "stream",
     "text": [
      "                                         eng_caption  \\\n",
      "0        an empty chair sitting in front of a window   \n",
      "1  a house under construction with a building bei...   \n",
      "2           a little boy that is sitting in a basket   \n",
      "3        a man in an apron working on crates of fish   \n",
      "4  a view from a bridge over a river in central park   \n",
      "\n",
      "                                  translated_caption  \\\n",
      "0  کھڑکی کے سامنے تختوں پر ایک چھوٹا سا تخت بیٹھت...   \n",
      "1       تعمیر کے تحت تعمیر کا گھر تعمیر کِیا گیا تھا   \n",
      "2              ایک چھوٹا لڑکا ایک ٹوکری میں بیٹھا ہے   \n",
      "3  مچھلیوں میں ایک آدمی مچھلی کے جال میں کام کرتا ہے   \n",
      "4     وسطی پارک کے ایک سرے سے لیکر وسطی پارک کا منظر   \n",
      "\n",
      "                                                 url  \n",
      "0  http://static.flickr.com/2723/4385058960_b0f29...  \n",
      "1  http://static.flickr.com/3074/2965635243_d45c3...  \n",
      "2  http://static.flickr.com/188/431442759_e0c519a...  \n",
      "3  http://static.flickr.com/3276/2989279316_9e8e3...  \n",
      "4  http://static.flickr.com/2691/4304191133_cbbf8...  \n"
     ]
    }
   ],
   "source": [
    "print(translated_df.head())\n",
    "# save the dataframe as a csv\n",
    "translated_df.to_csv('translated_captions.csv')"
   ]
  },
  {
   "cell_type": "code",
   "execution_count": null,
   "id": "e264edd1",
   "metadata": {},
   "outputs": [],
   "source": []
  }
 ],
 "metadata": {
  "kernelspec": {
   "display_name": "kdd_task_1",
   "language": "python",
   "name": "python3"
  },
  "language_info": {
   "codemirror_mode": {
    "name": "ipython",
    "version": 3
   },
   "file_extension": ".py",
   "mimetype": "text/x-python",
   "name": "python",
   "nbconvert_exporter": "python",
   "pygments_lexer": "ipython3",
   "version": "3.9.23"
  }
 },
 "nbformat": 4,
 "nbformat_minor": 5
}
